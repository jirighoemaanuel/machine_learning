{
 "cells": [
  {
   "cell_type": "markdown",
   "metadata": {},
   "source": [
    "Importing dependencies"
   ]
  },
  {
   "cell_type": "code",
   "execution_count": 1,
   "metadata": {},
   "outputs": [],
   "source": [
    "import numpy as np\n",
    "import pandas as pd\n",
    "import matplotlib.pyplot as plt\n",
    "import seaborn as sns\n",
    "from sklearn.model_selection import train_test_split\n",
    "from sklearn import metrics\n",
    "from xgboost import XGBRegressor"
   ]
  },
  {
   "cell_type": "markdown",
   "metadata": {},
   "source": [
    "Importing the compressive strenth dataset"
   ]
  },
  {
   "cell_type": "code",
   "execution_count": null,
   "metadata": {},
   "outputs": [],
   "source": [
    "# locading the dataset into a pandas DataFrame\n",
    "compressive_strength_dataframe = pd.read_csv(\"Concrete_Data.csv\")"
   ]
  },
  {
   "cell_type": "code",
   "execution_count": null,
   "metadata": {},
   "outputs": [
    {
     "name": "stdout",
     "output_type": "stream",
     "text": [
      "   Cement (component 1)(kg in a m^3 mixture)  ...  Concrete compressive strength(MPa, megapascals) \n",
      "0                                      540.0  ...                                             79.99\n",
      "1                                      540.0  ...                                             61.89\n",
      "2                                      332.5  ...                                             40.27\n",
      "3                                      332.5  ...                                             41.05\n",
      "4                                      198.6  ...                                             44.30\n",
      "\n",
      "[5 rows x 9 columns]\n"
     ]
    }
   ],
   "source": [
    "# print the first 5 rows of our dataframe\n",
    "print(compressive_strength_dataframe.head())"
   ]
  },
  {
   "cell_type": "code",
   "execution_count": 16,
   "metadata": {},
   "outputs": [
    {
     "name": "stdout",
     "output_type": "stream",
     "text": [
      "Cement (component 1)(kg in a m^3 mixture)                0\n",
      "Blast Furnace Slag (component 2)(kg in a m^3 mixture)    0\n",
      "Fly Ash (component 3)(kg in a m^3 mixture)               0\n",
      "Water  (component 4)(kg in a m^3 mixture)                0\n",
      "Superplasticizer (component 5)(kg in a m^3 mixture)      0\n",
      "Coarse Aggregate  (component 6)(kg in a m^3 mixture)     0\n",
      "Fine Aggregate (component 7)(kg in a m^3 mixture)        0\n",
      "Age (day)                                                0\n",
      "Concrete compressive strength(MPa, megapascals)          0\n",
      "dtype: int64\n"
     ]
    }
   ],
   "source": [
    "# check for missing values\n",
    "print(compressive_strength_dataframe.isnull().sum())"
   ]
  },
  {
   "cell_type": "code",
   "execution_count": 17,
   "metadata": {},
   "outputs": [
    {
     "name": "stdout",
     "output_type": "stream",
     "text": [
      "       Cement (component 1)(kg in a m^3 mixture)  ...  Concrete compressive strength(MPa, megapascals) \n",
      "count                                1030.000000  ...                                       1030.000000\n",
      "mean                                  281.167864  ...                                         35.817961\n",
      "std                                   104.506364  ...                                         16.705742\n",
      "min                                   102.000000  ...                                          2.330000\n",
      "25%                                   192.375000  ...                                         23.710000\n",
      "50%                                   272.900000  ...                                         34.445000\n",
      "75%                                   350.000000  ...                                         46.135000\n",
      "max                                   540.000000  ...                                         82.600000\n",
      "\n",
      "[8 rows x 9 columns]\n"
     ]
    }
   ],
   "source": [
    "# statistical measure of the dataset\n",
    "print(compressive_strength_dataframe.describe())"
   ]
  },
  {
   "cell_type": "code",
   "execution_count": null,
   "metadata": {},
   "outputs": [],
   "source": []
  }
 ],
 "metadata": {
  "kernelspec": {
   "display_name": "myenv",
   "language": "python",
   "name": "python3"
  },
  "language_info": {
   "codemirror_mode": {
    "name": "ipython",
    "version": 3
   },
   "file_extension": ".py",
   "mimetype": "text/x-python",
   "name": "python",
   "nbconvert_exporter": "python",
   "pygments_lexer": "ipython3",
   "version": "3.12.0"
  }
 },
 "nbformat": 4,
 "nbformat_minor": 2
}
